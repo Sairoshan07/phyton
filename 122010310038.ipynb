{
  "nbformat": 4,
  "nbformat_minor": 0,
  "metadata": {
    "colab": {
      "name": "122010310038.ipynb",
      "provenance": [],
      "authorship_tag": "ABX9TyP6CpFxR1eA/TcxkK/hXX1J",
      "include_colab_link": true
    },
    "kernelspec": {
      "name": "python3",
      "display_name": "Python 3"
    },
    "language_info": {
      "name": "python"
    }
  },
  "cells": [
    {
      "cell_type": "markdown",
      "metadata": {
        "id": "view-in-github",
        "colab_type": "text"
      },
      "source": [
        "<a href=\"https://colab.research.google.com/github/Sairoshan07/phyton/blob/main/122010310038.ipynb\" target=\"_parent\"><img src=\"https://colab.research.google.com/assets/colab-badge.svg\" alt=\"Open In Colab\"/></a>"
      ]
    },
    {
      "cell_type": "code",
      "execution_count": 1,
      "metadata": {
        "colab": {
          "base_uri": "https://localhost:8080/",
          "height": 0
        },
        "id": "7CnJfgptoR4S",
        "outputId": "39e71155-b64b-438a-b6d5-e2411ad3554b"
      },
      "outputs": [
        {
          "name": "stdout",
          "output_type": "stream",
          "text": [
            "Select operation.\n",
            "1.Add\n",
            "2.Subtract\n",
            "3.Multiply\n",
            "4.Divide\n",
            "Enter choice(1/2/3/4): 1\n",
            "Enter first number: 12\n",
            "Enter second number: 13\n",
            "12.0 + 13.0 = 25.0\n",
            "Let's do next calculation? (yes/no): yes\n",
            "Enter choice(1/2/3/4): 2\n",
            "Enter first number: 12\n",
            "Enter second number: 15\n",
            "12.0 - 15.0 = -3.0\n",
            "Let's do next calculation? (yes/no): yes\n",
            "Enter choice(1/2/3/4): 3\n",
            "Enter first number: 16\n",
            "Enter second number: 14\n",
            "16.0 * 14.0 = 224.0\n",
            "Let's do next calculation? (yes/no): yes\n",
            "Enter choice(1/2/3/4): 4\n",
            "Enter first number: 18\n",
            "Enter second number: 27\n",
            "18.0 / 27.0 = 0.6666666666666666\n",
            "Let's do next calculation? (yes/no): yes\n",
            "Enter choice(1/2/3/4): no\n",
            "Invalid Input\n",
            "Enter choice(1/2/3/4): 1\n",
            "Enter first number: 15\n",
            "Enter second number: 16\n",
            "15.0 + 16.0 = 31.0\n",
            "Let's do next calculation? (yes/no): no\n"
          ]
        }
      ],
      "source": [
        "#a) Building a mathematical calculator that can perform operations according to user input. Use decision making statement.\n",
        "\n",
        "# This function adds two numbers\n",
        "def add(x, y):\n",
        "    return x + y\n",
        "\n",
        "# This function subtracts two numbers\n",
        "def subtract(x, y):\n",
        "    return x - y\n",
        "\n",
        "# This function multiplies two numbers\n",
        "def multiply(x, y):\n",
        "    return x * y\n",
        "\n",
        "# This function divides two numbers\n",
        "def divide(x, y):\n",
        "    return x / y\n",
        "\n",
        "\n",
        "print(\"Select operation.\")\n",
        "print(\"1.Add\")\n",
        "print(\"2.Subtract\")\n",
        "print(\"3.Multiply\")\n",
        "print(\"4.Divide\")\n",
        "\n",
        "while True:\n",
        "    # take input from the user\n",
        "    choice = input(\"Enter choice(1/2/3/4): \")\n",
        "\n",
        "    # check if choice is one of the four options\n",
        "    if choice in ('1', '2', '3', '4'):\n",
        "        num1 = float(input(\"Enter first number: \"))\n",
        "        num2 = float(input(\"Enter second number: \"))\n",
        "\n",
        "        if choice == '1':\n",
        "            print(num1, \"+\", num2, \"=\", add(num1, num2))\n",
        "\n",
        "        elif choice == '2':\n",
        "            print(num1, \"-\", num2, \"=\", subtract(num1, num2))\n",
        "\n",
        "        elif choice == '3':\n",
        "            print(num1, \"*\", num2, \"=\", multiply(num1, num2))\n",
        "\n",
        "        elif choice == '4':\n",
        "            print(num1, \"/\", num2, \"=\", divide(num1, num2))\n",
        "        \n",
        "        # check if user wants another calculation\n",
        "        # break the while loop if answer is no\n",
        "        next_calculation = input(\"Let's do next calculation? (yes/no): \")\n",
        "        if next_calculation == \"no\":\n",
        "          break\n",
        "    \n",
        "    else:\n",
        "        print(\"Invalid Input\")"
      ]
    },
    {
      "cell_type": "code",
      "source": [
        "#b)\tProgram to print a specified list after removing the 0th, 4th and 5th elements. Sample List : ['Red', 'Green', 'White', 'Black', 'Pink', 'Yellow'] Expected Output : ['Green', 'White', 'Black']\n",
        "\n",
        "color = ['Red', 'Green', 'White', 'Black', 'Pink', 'Yellow']\n",
        "color = [x for (i,x) in enumerate(color) if i not in (0,4,5)]\n",
        "print(color)"
      ],
      "metadata": {
        "colab": {
          "base_uri": "https://localhost:8080/",
          "height": 0
        },
        "id": "j8Gshum1pjuT",
        "outputId": "7c50e845-1c54-4f2e-a1d5-68c810d1be41"
      },
      "execution_count": 2,
      "outputs": [
        {
          "output_type": "stream",
          "name": "stdout",
          "text": [
            "['Green', 'White', 'Black']\n"
          ]
        }
      ]
    },
    {
      "cell_type": "code",
      "source": [
        "#c)\tProgram for counting occurrence of a certain element in a string, getting indexes that have matching elements. For ex -.In Rabbit count how many times b has occurred. Example-I have to go to a doctor and get myself checked. Count the number of occurrences of “to” in the given content.\n",
        "\n",
        "def count(s, c) :\n",
        "\t\n",
        "\t# Count variable\n",
        "\tres = 0\n",
        "\t\n",
        "\tfor i in range(len(s)) :\n",
        "\t\t\n",
        "\t\t# Checking character in string\n",
        "\t\tif (s[i] == c):\n",
        "\t\t\tres = res + 1\n",
        "\treturn res\n",
        "\t\n",
        "\t\n",
        "# Driver code\n",
        "str= \"geeksforgeeks\"\n",
        "c = 'e'\n",
        "print(count(str, c))"
      ],
      "metadata": {
        "colab": {
          "base_uri": "https://localhost:8080/",
          "height": 0
        },
        "id": "AEX4udIZppWt",
        "outputId": "fda43d9b-7ef5-4c0d-c47d-654c26550f06"
      },
      "execution_count": 3,
      "outputs": [
        {
          "output_type": "stream",
          "name": "stdout",
          "text": [
            "4\n"
          ]
        }
      ]
    },
    {
      "cell_type": "code",
      "source": [
        "#d)\tExecute the code in python to check whether a given key exists in a dictionary or not\n",
        "def checkKey(dict, key):\n",
        "\t\n",
        "\tif key in dict.keys():\n",
        "\t\tprint(\"Present, \", end =\" \")\n",
        "\t\tprint(\"value =\", dict[key])\n",
        "\telse:\n",
        "\t\tprint(\"Not present\")\n",
        "\n",
        "# Driver Code\n",
        "dict = {'a': 100, 'b':200, 'c':300}\n",
        "\n",
        "key = 'b'\n",
        "checkKey(dict, key)\n",
        "\n",
        "key = 'w'\n",
        "checkKey(dict, key)"
      ],
      "metadata": {
        "colab": {
          "base_uri": "https://localhost:8080/",
          "height": 0
        },
        "id": "ZHGijMoIpwX3",
        "outputId": "045f48ec-ca17-468e-dd7e-306a73f5058a"
      },
      "execution_count": 4,
      "outputs": [
        {
          "output_type": "stream",
          "name": "stdout",
          "text": [
            "Present,  value = 200\n",
            "Not present\n"
          ]
        }
      ]
    }
  ]
}