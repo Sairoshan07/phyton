{
  "nbformat": 4,
  "nbformat_minor": 0,
  "metadata": {
    "colab": {
      "name": "list",
      "provenance": [],
      "authorship_tag": "ABX9TyN8oHirrLAVItqB3WRiXrzT",
      "include_colab_link": true
    },
    "kernelspec": {
      "name": "python3",
      "display_name": "Python 3"
    },
    "language_info": {
      "name": "python"
    }
  },
  "cells": [
    {
      "cell_type": "markdown",
      "metadata": {
        "id": "view-in-github",
        "colab_type": "text"
      },
      "source": [
        "<a href=\"https://colab.research.google.com/github/Sairoshan07/phyton/blob/main/list.ipynb\" target=\"_parent\"><img src=\"https://colab.research.google.com/assets/colab-badge.svg\" alt=\"Open In Colab\"/></a>"
      ]
    },
    {
      "cell_type": "code",
      "execution_count": null,
      "metadata": {
        "id": "CtudYtC-Um4h"
      },
      "outputs": [],
      "source": [
        ""
      ]
    },
    {
      "cell_type": "markdown",
      "source": [
        "inserting elements into list\n"
      ],
      "metadata": {
        "id": "sGd9ccRBUnTZ"
      }
    },
    {
      "cell_type": "code",
      "source": [
        "choclates=[\"diary milk\",\"5star\",\"silk\"]\n",
        "print(choclates)\n",
        "print(type(choclates))\n",
        "choclates.append(\"milkybar\")\n",
        "print(choclates)\n",
        "choclates.insert(2,\"munch\")\n",
        "print(choclates)\n",
        "\n",
        "\n"
      ],
      "metadata": {
        "colab": {
          "base_uri": "https://localhost:8080/"
        },
        "id": "-kTiRGR-UsOG",
        "outputId": "d4233830-8604-4d3f-9a08-8bc8874ace67"
      },
      "execution_count": null,
      "outputs": [
        {
          "output_type": "stream",
          "name": "stdout",
          "text": [
            "['diary milk', '5star', 'silk']\n",
            "<class 'list'>\n",
            "['diary milk', '5star', 'silk', 'milkybar']\n",
            "['diary milk', '5star', 'munch', 'silk', 'milkybar']\n"
          ]
        }
      ]
    },
    {
      "cell_type": "code",
      "source": [
        ""
      ],
      "metadata": {
        "id": "Xs7QhWlxVg8N"
      },
      "execution_count": null,
      "outputs": []
    },
    {
      "cell_type": "markdown",
      "source": [
        "#deleting elements in the list\n"
      ],
      "metadata": {
        "id": "3Qr4a7jiXMBX"
      }
    },
    {
      "cell_type": "code",
      "source": [
        "choclates=[\"diary milk\",\"5star\",\"silk\"]\n",
        "choclates.pop()\n",
        "print(choclates)\n",
        "choclates.remove(\"5star\")\n",
        "print(choclates)\n"
      ],
      "metadata": {
        "colab": {
          "base_uri": "https://localhost:8080/"
        },
        "id": "hYaMQNyRXWz2",
        "outputId": "40375212-720d-413d-d502-a405bec3d650"
      },
      "execution_count": null,
      "outputs": [
        {
          "output_type": "stream",
          "name": "stdout",
          "text": [
            "['diary milk', 'silk']\n"
          ]
        }
      ]
    },
    {
      "cell_type": "code",
      "source": [
        "choclates=[\"diary milk\",\"5star\",\"silk\"]\n",
        "print (choclates[0:2])"
      ],
      "metadata": {
        "colab": {
          "base_uri": "https://localhost:8080/"
        },
        "id": "lkpCBq0Fbh22",
        "outputId": "93a28b6e-15e2-488e-a0f2-3907e7329655"
      },
      "execution_count": null,
      "outputs": [
        {
          "output_type": "stream",
          "name": "stdout",
          "text": [
            "['diary milk', '5star']\n"
          ]
        }
      ]
    },
    {
      "cell_type": "code",
      "source": [
        "choclates=[\"diary milk\",\"5star\",\"silk\"]\n",
        "print(choclates[1:])"
      ],
      "metadata": {
        "colab": {
          "base_uri": "https://localhost:8080/"
        },
        "id": "4ZoljG6JXrk2",
        "outputId": "6f2e241d-17f0-46d8-fa91-f357c30ab519"
      },
      "execution_count": null,
      "outputs": [
        {
          "output_type": "stream",
          "name": "stdout",
          "text": [
            "['5star', 'silk']\n"
          ]
        }
      ]
    },
    {
      "cell_type": "code",
      "source": [
        "choclates=[\"diary milk\",\"5star\",\"silk\"]\n"
      ],
      "metadata": {
        "colab": {
          "base_uri": "https://localhost:8080/",
          "height": 130
        },
        "id": "fSTIjg8Hb_hL",
        "outputId": "a631028c-7d9f-4619-b430-e5bed40cb245"
      },
      "execution_count": null,
      "outputs": [
        {
          "output_type": "error",
          "ename": "SyntaxError",
          "evalue": "ignored",
          "traceback": [
            "\u001b[0;36m  File \u001b[0;32m\"<ipython-input-29-df7a7a636678>\"\u001b[0;36m, line \u001b[0;32m2\u001b[0m\n\u001b[0;31m    choclates.insert(2,\"nuts\"3,\"perk\" 4,\"fuse\")\u001b[0m\n\u001b[0m                             ^\u001b[0m\n\u001b[0;31mSyntaxError\u001b[0m\u001b[0;31m:\u001b[0m invalid syntax\n"
          ]
        }
      ]
    },
    {
      "cell_type": "code",
      "source": [
        "choclates=[\"diary milk\",\"5star\",\"silk\"]\n",
        "choclates.clear()\n",
        "print(choclates)"
      ],
      "metadata": {
        "colab": {
          "base_uri": "https://localhost:8080/"
        },
        "id": "ibUj7rpRc2ml",
        "outputId": "f1bd8b20-ea61-4e01-94b9-8a77d55ccf52"
      },
      "execution_count": null,
      "outputs": [
        {
          "output_type": "stream",
          "name": "stdout",
          "text": [
            "[]\n"
          ]
        }
      ]
    },
    {
      "cell_type": "code",
      "source": [
        " "
      ],
      "metadata": {
        "id": "O7mcdVw2fHJV"
      },
      "execution_count": null,
      "outputs": []
    }
  ]
}